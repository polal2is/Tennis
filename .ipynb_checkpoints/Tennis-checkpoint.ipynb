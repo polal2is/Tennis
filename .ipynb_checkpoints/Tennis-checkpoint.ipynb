{
 "cells": [
  {
   "cell_type": "code",
   "execution_count": 66,
   "metadata": {},
   "outputs": [],
   "source": [
    "# !git pull"
   ]
  },
  {
   "cell_type": "code",
   "execution_count": 104,
   "metadata": {},
   "outputs": [
    {
     "data": {
      "text/html": [
       "<style>.container { width:100% !important; }</style>"
      ],
      "text/plain": [
       "<IPython.core.display.HTML object>"
      ]
     },
     "metadata": {},
     "output_type": "display_data"
    }
   ],
   "source": [
    "from IPython.core.display import display, HTML\n",
    "display(HTML(\"<style>.container { width:100% !important; }</style>\"))\n",
    "\n",
    "from ipywidgets import interact, interact_manual, interactive\n",
    "import ipywidgets as widgets"
   ]
  },
  {
   "cell_type": "code",
   "execution_count": 117,
   "metadata": {},
   "outputs": [],
   "source": [
    "# import libraries\n",
    "import os, glob, wget\n",
    "\n",
    "import pandas as pd\n",
    "import numpy as np\n",
    "\n",
    "import plotly.express as px\n",
    "import difflib\n",
    "\n",
    "import warnings\n",
    "warnings.simplefilter(action = 'ignore', category = FutureWarning)"
   ]
  },
  {
   "cell_type": "code",
   "execution_count": 108,
   "metadata": {},
   "outputs": [],
   "source": [
    "# Create the full historical Dataset\n",
    "# Folder = 'Data/Data_2/'\n",
    "# Files = os.listdir(Folder)\n",
    "\n",
    "Files = glob.glob('atp_matches_????.csv')\n",
    "\n",
    "df = pd.DataFrame()\n",
    "for file in Files:\n",
    "    if file not in ['atp_players.csv']:\n",
    "        df_temp = pd.read_csv(file, sep = ',')\n",
    "        # df_temp = pd.read_csv(Folder + file, sep = ',')\n",
    "        df = pd.concat([df, df_temp], sort = False)\n",
    "df['tourney_date'] = pd.to_datetime(df['tourney_date'].astype(str), infer_datetime_format = False, yearfirst = True, format = '%Y%m%d')\n",
    "df['tourney_year'] = df['tourney_date'].dt.year\n",
    "df['tourney_month'] = df['tourney_date'].dt.month\n",
    "df['tourney_weekday'] = df['tourney_date'].dt.day_name()\n",
    "df = df.sort_values('tourney_date').reset_index(drop = True)\n",
    "\n",
    "Date_Min = '2000-01-01'\n",
    "#Date_Max =  pd.to_datetime(Date_Min) + pd.to_timedelta('1D')\n",
    "Mask_Date = (df['tourney_date'] >= Date_Min)# & (df_URG['dateheuremin_deb_urg'] < Date_Max)\n",
    "\n",
    "\n",
    "Tourne_Level_Dict = {'G' : 'Grand Slam', 'M' : 'Masters 1000', 'A' : 'Other tour-level event', 'C' : 'Challenger', 'S' : 'Satellite/ITF', 'F' : 'Tour final', 'D' : 'Davis Cup'}\n",
    "\n",
    "df = df.replace(Tourne_Level_Dict)\n",
    "\n",
    "df = df[Mask_Date]"
   ]
  },
  {
   "cell_type": "code",
   "execution_count": 109,
   "metadata": {},
   "outputs": [],
   "source": [
    "df_Players = pd.read_csv('atp_players.csv', sep = ',', header = None)\n",
    "\n",
    "df_Players.columns = ['id', 'First Name', 'Family Name', 'Hand', 'Birth Date', 'Nationality']\n",
    "\n",
    "# df_Players['Birth Date'] = pd.to_datetime(df_Players['Birth Date'].astype(str).str.replace('.0', ''), infer_datetime_format = False, yearfirst = True, errors = 'ignore')#, yearfirst = True, format = '%Y%m%d', errors = 'ignore')\n",
    "df_Players['Birth Date'] = df_Players['Birth Date'].astype(str).str.replace('.0', '')\n",
    "\n",
    "df_Players['Full Name'] = df_Players['First Name'] + ' ' + df_Players['Family Name']"
   ]
  },
  {
   "cell_type": "code",
   "execution_count": 110,
   "metadata": {},
   "outputs": [],
   "source": [
    "df = df.merge(df_Players, how = 'left', left_on = 'winner_id', right_on = 'id', suffixes = ('', '_winner')).merge(df_Players, how = 'left', left_on = 'loser_id',  right_on = 'id', suffixes = ('', '_loser'))\n",
    "#df = df.merge(df_Players, how = 'left', left_on = 'loser_id',  right_on = 'id', suffixes = ('', '_loser'))"
   ]
  },
  {
   "cell_type": "code",
   "execution_count": 111,
   "metadata": {},
   "outputs": [],
   "source": [
    "df = df.rename(columns = {'id':'id_winner', 'First Name':'First Name_winner', 'Family Name':'Family Name_winner', 'Full Name':'Full Name_winner', 'Hand':'Hand_winner', 'Birth Date':'Birth Date_winner', 'Nationality':'Nationality_winner'})"
   ]
  },
  {
   "cell_type": "code",
   "execution_count": 112,
   "metadata": {},
   "outputs": [],
   "source": [
    "Player = 'Benoit Paire'\n",
    "Mask_Player = (df['Full Name_winner'].str.contains(Player)) | (df['Full Name_winner'].str.contains(Player))\n",
    "\n",
    "df_Player = df[Mask_Player].reset_index(drop = True)\n",
    "\n",
    "Mask_Player_wins = df_Player['Full Name_winner'] == Player\n",
    "df_Player['Player Wins Flag'] = np.where(Mask_Player_wins, 1, 0)\n",
    "df_Player['time_idx'] = df_Player.index\n",
    "\n",
    "# df_Player.to_csv('data.csv')"
   ]
  },
  {
   "cell_type": "code",
   "execution_count": 113,
   "metadata": {},
   "outputs": [],
   "source": [
    "Mask_Active_Player = (df['tourney_year'] == 2021)\n",
    "Top = 20\n",
    "Mask_Top_Players = (df['winner_rank'] <= Top)\n",
    "\n",
    "Player_List = df[Mask_Active_Player & Mask_Top_Players]['Full Name_winner'].unique().tolist()\n",
    "Player_List.sort()\n",
    "\n",
    "Tourney_Level_List = df['tourney_level'].unique().tolist()"
   ]
  },
  {
   "cell_type": "code",
   "execution_count": 114,
   "metadata": {},
   "outputs": [],
   "source": [
    "Variables = df.columns.tolist() + ['Player Wins Flag', 'Player Loses Flag', 'Player Age', 'Opponent Age', 'Opponent', 'Opponent Nationality', 'Player Ranking', 'Opponent Ranking', 'Opponent Hand']\n",
    "\n",
    "x_Widget = widgets.Combobox(\n",
    "    value = 'tourney_year',\n",
    "    placeholder = '<Bars>',\n",
    "    description = '<b>Bars:<b>',\n",
    "    options = Variables,\n",
    "    ensure_option = True,\n",
    "    disabled = False,\n",
    "    continuous_update = False)\n",
    "\n",
    "y_Widget = widgets.Combobox(\n",
    "    value = 'Player Wins Flag',\n",
    "    placeholder = '<Variable>',\n",
    "    description = '<b>Variable:<b>',\n",
    "    options = Variables,\n",
    "    ensure_option = True,\n",
    "    disabled = False,\n",
    "    continuous_update = False)\n",
    "\n",
    "Color_Widget = widgets.Combobox(\n",
    "    value = 'surface',\n",
    "    placeholder = '<Colors>',\n",
    "    description = '<b>Colors:<b>',\n",
    "    options = Variables,\n",
    "    ensure_option = True,\n",
    "    disabled = False,\n",
    "    continuous_update = False)\n",
    "\n",
    "Pattern_Widget = widgets.Combobox(\n",
    "    value = 'tourney_name',\n",
    "    placeholder = '<Pattern>',\n",
    "    description = '<b>Pattern:<b>',\n",
    "    options = Variables,\n",
    "    ensure_option = True,\n",
    "    disabled = False,\n",
    "    continuous_update = False)\n",
    "\n",
    "# Player_List = ['Roger Federer', 'Rafael Nadal', 'Novak Djokovic', 'Benoit Paire', 'Stefanos Tsitsipas']\n",
    "# Player_List = ['Federer', 'Nadal', 'Djokovic', 'Paire']\n",
    "\n",
    "Players_Widget = widgets.SelectMultiple(\n",
    "    value = ['Roger Federer'],\n",
    "    placeholder = '<Players>',\n",
    "    description = '<b>Players:<b>',\n",
    "    #options = df_Players['Family Name'].dropna().unique().tolist(),\n",
    "    options = Player_List,\n",
    "    ensure_option = True,\n",
    "    disabled = False,\n",
    "    continuous_update = False)\n",
    "\n",
    "Level_Widget = widgets.SelectMultiple(\n",
    "    value = Tourney_Level_List,\n",
    "    placeholder = '<Level>',\n",
    "    description = '<b>Level:<b>',\n",
    "    #options = df_Players['Family Name'].dropna().unique().tolist(),\n",
    "    options = Tourney_Level_List,\n",
    "    ensure_option = True,\n",
    "    disabled = False,\n",
    "    continuous_update = False)\n",
    "\n",
    "Widget_Years = widgets.IntRangeSlider(\n",
    "    value = [2019, 2021],\n",
    "    min = 2000,\n",
    "    max = 2021,\n",
    "    step = 1,\n",
    "    description='Years:',\n",
    "    disabled = False,\n",
    "    continuous_update = False,\n",
    "    orientation = 'horizontal'\n",
    ")"
   ]
  },
  {
   "cell_type": "code",
   "execution_count": 116,
   "metadata": {
    "scrolled": false
   },
   "outputs": [
    {
     "data": {
      "text/html": [
       "<h2>ATP Tennis Stats Dashboard<h2>"
      ],
      "text/plain": [
       "<IPython.core.display.HTML object>"
      ]
     },
     "metadata": {},
     "output_type": "display_data"
    },
    {
     "data": {
      "application/vnd.jupyter.widget-view+json": {
       "model_id": "f3a12d7e2b9441b2b1cd9ee1d9a34a84",
       "version_major": 2,
       "version_minor": 0
      },
      "text/plain": [
       "interactive(children=(IntRangeSlider(value=(2019, 2021), continuous_update=False, description='Years:', max=20…"
      ]
     },
     "metadata": {},
     "output_type": "display_data"
    }
   ],
   "source": [
    "display(HTML('<h2>ATP Tennis Stats Dashboard<h2>'))\n",
    "\n",
    "@interact\n",
    "def Plot(Years = Widget_Years, Tourney_Levels = Level_Widget, Players = Players_Widget, x = x_Widget, y = y_Widget, Color = Color_Widget):#, Pattern = Pattern_Widget):\n",
    "    \n",
    "    try:\n",
    "        # Mask_Players = (df['Family Name_winner'].isin(Players))# | (df['Family Name_loser'].isin(Players))\n",
    "        Mask_Players = (df['Full Name_winner'].isin(list(Players))) | (df['Full Name_loser'].isin(list(Players)))\n",
    "        Mask_Levels  = (df['tourney_level'].isin(list(Tourney_Levels)))\n",
    "        # Mask_Players = (df['Full Name_winner'].isin(Players))\n",
    "\n",
    "        Years_Range = range(Years[0], Years[-1] + 1)\n",
    "        Mask_Years = (df['tourney_year'].isin(Years_Range))\n",
    "\n",
    "        df_Player = df[Mask_Players & Mask_Years & Mask_Levels].reset_index(drop = True)\n",
    "\n",
    "        Mask_Player_Wins  = df_Player['Full Name_winner'].isin(Players)\n",
    "        Mask_Player_Loses = df_Player['Full Name_loser'].isin(Players)\n",
    "        df_Player['Player Wins Flag'] = np.where(Mask_Player_Wins, 1, 0)\n",
    "        df_Player['Player Loses Flag'] = np.where(Mask_Player_Loses, 1, 0)\n",
    "\n",
    "        # display(df_Player)\n",
    "\n",
    "        Mask_Player_Win_Flag  = df_Player['Player Wins Flag'] == 1\n",
    "        Mask_Player_Lose_Flag = df_Player['Player Wins Flag'] == 0\n",
    "\n",
    "        df_Player['Player Age']           = np.where(Mask_Player_Wins, df_Player['winner_age'], df_Player['loser_age'])\n",
    "        df_Player['Opponent Age']         = np.where(Mask_Player_Wins, df_Player['loser_age'], df_Player['winner_age'])\n",
    "        df_Player['Opponent']             = np.where(Mask_Player_Wins, df_Player['Full Name_loser'], df_Player['Full Name_winner'])\n",
    "        df_Player['Opponent Nationality'] = np.where(Mask_Player_Wins, df_Player['Nationality_loser'], df_Player['Nationality_winner'])\n",
    "        df_Player['Player Ranking']       = np.where(Mask_Player_Wins, df_Player['winner_rank'], df_Player['loser_rank']).astype(int)\n",
    "        df_Player['Opponent Ranking']     = np.where(Mask_Player_Wins, df_Player['loser_rank'], df_Player['winner_rank']).astype(int)\n",
    "        df_Player['Opponent Hand']        = np.where(Mask_Player_Wins, df_Player['loser_hand'], df_Player['winner_hand'])\n",
    "\n",
    "        Wins = df_Player[Mask_Player_Win_Flag]['Player Wins Flag'].count()\n",
    "        Losses = df_Player[Mask_Player_Lose_Flag]['Player Wins Flag'].count()\n",
    "        Win_Ratio    = int(100*df_Player[Mask_Player_Win_Flag]['Player Wins Flag'].count()/df_Player['Player Wins Flag'].count())\n",
    "        Losses_Ratio = int(100*df_Player[Mask_Player_Lose_Flag]['Player Wins Flag'].count()/df_Player['Player Wins Flag'].count())\n",
    "        Win_Lose_Ratio = int(100*df_Player[Mask_Player_Win_Flag]['Player Wins Flag'].count()/df_Player[Mask_Player_Lose_Flag]['Player Wins Flag'].count())\n",
    "        \n",
    "        # display('Win:', df_Player[Mask_Player_Win_Flag]['Player Wins Flag'].count())\n",
    "        # display('Lose:', df_Player[Mask_Player_Lose_Flag]['Player Wins Flag'].count())\n",
    "        # display('Win Ratio:', 100*df_Player[Mask_Player_Win_Flag]['Player Wins Flag'].count()/df_Player['Player Wins Flag'].count())\n",
    "        # display('Lose Ratio:', 100*df_Player[Mask_Player_Lose_Flag]['Player Wins Flag'].count()/df_Player['Player Wins Flag'].count())\n",
    "        # display('Win/Lose Ratio:', 100*df_Player[Mask_Player_Win_Flag]['Player Wins Flag'].count()/df_Player[Mask_Player_Lose_Flag]['Player Wins Flag'].count())\n",
    "\n",
    "        \n",
    "        Cols = [x, y, Color]\n",
    "\n",
    "        # df_Groups = df[Mask_Players & Mask_Tourney][Cols].groupby([x, Color]).count().reset_index()\n",
    "        df_Groups = df_Player[Cols].groupby([x, Color]).count().reset_index()\n",
    "        df_Groups = df_Groups.sort_values([x]).reset_index(drop = True)\n",
    "\n",
    "        # df_Groups = df_Player[Cols]\n",
    "\n",
    "        # display(df_Groups)\n",
    "\n",
    "        # fig = px.box(df_Groups, x = x, y = y, color = Color, points = 'outliers', notched = False)#, labels = Labels) # or violin, rug)\n",
    "        # fig = px.box(df_Groups, x = Bars, y = Variable, color = Group, points = 'outliers', notched = False)\n",
    "\n",
    "        Labels = {'Player Wins Flag' : 'Wins', 'Player Loses Flag' : 'Losses', 'tourney_year' : 'Year'}\n",
    "        \n",
    "        fig = px.bar(df_Groups, x = x, y = y, color = Color, labels = Labels)\n",
    "\n",
    "        Players_Str = ''\n",
    "        Players_Str = Players_Str.join([Player + ', ' for Player in Players])\n",
    "        Title = 'Player(s): ' + Players_Str + 'Win Ratio: ' + str(Win_Ratio) + '%'\n",
    "        \n",
    "        fig.update_xaxes(type = 'category')\n",
    "        fig.update_layout(barmode = 'group', title_text = Title)\n",
    "\n",
    "        fig.show()\n",
    "        \n",
    "    except:\n",
    "        pass"
   ]
  },
  {
   "cell_type": "code",
   "execution_count": 32,
   "metadata": {},
   "outputs": [
    {
     "data": {
      "text/html": [
       "<h3>Find Closest Match:<h3>"
      ],
      "text/plain": [
       "<IPython.core.display.HTML object>"
      ]
     },
     "metadata": {},
     "output_type": "display_data"
    },
    {
     "data": {
      "application/vnd.jupyter.widget-view+json": {
       "model_id": "eecb1d26c0e14bc283154e38086e1cbc",
       "version_major": 2,
       "version_minor": 0
      },
      "text/plain": [
       "interactive(children=(Text(value='Flayac', continuous_update=False, description='<b>Name<b>', placeholder='<Ty…"
      ]
     },
     "metadata": {},
     "output_type": "display_data"
    }
   ],
   "source": [
    "Players = df_Players['Family Name'].astype(str).unique().tolist()\n",
    "\n",
    "Widget_Name = widgets.Text(\n",
    "    value = 'Flayac',\n",
    "    placeholder = '<Type Name>',\n",
    "    description = '<b>Name<b>',\n",
    "    disabled = False,\n",
    "    continuous_update = False)\n",
    "\n",
    "display(HTML('<h3>Find Closest Match:<h3>'))\n",
    "\n",
    "@interact\n",
    "def get_closest_player(Name = Widget_Name):\n",
    "    Matches = difflib.get_close_matches(Name,  Players, n = 3, cutoff = 0.1)\n",
    "    # print('Closest Tennis Player', Matches)\n",
    "    \n",
    "    Results = df_Players[df_Players['Family Name'].isin(Matches)].reset_index(drop = True)\n",
    "    \n",
    "    Results['Birth Date'] = Results['Birth Date'].str.replace('nan', 'Unknown')\n",
    "    Results['Birth Date'] = Results['Birth Date'].str[:4]\n",
    "    \n",
    "    display(Results)\n",
    "    "
   ]
  },
  {
   "cell_type": "code",
   "execution_count": null,
   "metadata": {},
   "outputs": [],
   "source": []
  },
  {
   "cell_type": "code",
   "execution_count": null,
   "metadata": {},
   "outputs": [],
   "source": []
  },
  {
   "cell_type": "code",
   "execution_count": null,
   "metadata": {},
   "outputs": [],
   "source": []
  }
 ],
 "metadata": {
  "hide_input": false,
  "kernelspec": {
   "display_name": "Python 3",
   "language": "python",
   "name": "python3"
  },
  "language_info": {
   "codemirror_mode": {
    "name": "ipython",
    "version": 3
   },
   "file_extension": ".py",
   "mimetype": "text/x-python",
   "name": "python",
   "nbconvert_exporter": "python",
   "pygments_lexer": "ipython3",
   "version": "3.7.10"
  },
  "toc": {
   "base_numbering": 1,
   "nav_menu": {},
   "number_sections": true,
   "sideBar": true,
   "skip_h1_title": false,
   "title_cell": "Table of Contents",
   "title_sidebar": "Contents",
   "toc_cell": false,
   "toc_position": {},
   "toc_section_display": true,
   "toc_window_display": false
  },
  "varInspector": {
   "cols": {
    "lenName": 16,
    "lenType": 16,
    "lenVar": 40
   },
   "kernels_config": {
    "python": {
     "delete_cmd_postfix": "",
     "delete_cmd_prefix": "del ",
     "library": "var_list.py",
     "varRefreshCmd": "print(var_dic_list())"
    },
    "r": {
     "delete_cmd_postfix": ") ",
     "delete_cmd_prefix": "rm(",
     "library": "var_list.r",
     "varRefreshCmd": "cat(var_dic_list()) "
    }
   },
   "types_to_exclude": [
    "module",
    "function",
    "builtin_function_or_method",
    "instance",
    "_Feature"
   ],
   "window_display": false
  }
 },
 "nbformat": 4,
 "nbformat_minor": 2
}
